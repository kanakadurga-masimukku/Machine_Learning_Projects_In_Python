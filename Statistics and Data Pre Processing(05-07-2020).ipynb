{
 "cells": [
  {
   "cell_type": "markdown",
   "metadata": {},
   "source": [
    "# Importing all the required Libraries"
   ]
  },
  {
   "cell_type": "code",
   "execution_count": 27,
   "metadata": {},
   "outputs": [],
   "source": [
    "import pandas as pd\n",
    "from scipy.stats import iqr\n",
    "from scipy.stats import ttest_1samp,f_oneway,chi2_contingency\n",
    "from scipy.stats import norm"
   ]
  },
  {
   "cell_type": "markdown",
   "metadata": {},
   "source": [
    "# Reading a file from the Local Disk"
   ]
  },
  {
   "cell_type": "code",
   "execution_count": 28,
   "metadata": {},
   "outputs": [],
   "source": [
    "x=pd.read_csv(\"C:\\\\Users\\\\KATA\\\\Documents\\\\DATA SCIENCE\\\\DataSets 1\\\\life.csv\")"
   ]
  },
  {
   "cell_type": "code",
   "execution_count": 29,
   "metadata": {},
   "outputs": [
    {
     "data": {
      "text/html": [
       "<div>\n",
       "<style scoped>\n",
       "    .dataframe tbody tr th:only-of-type {\n",
       "        vertical-align: middle;\n",
       "    }\n",
       "\n",
       "    .dataframe tbody tr th {\n",
       "        vertical-align: top;\n",
       "    }\n",
       "\n",
       "    .dataframe thead th {\n",
       "        text-align: right;\n",
       "    }\n",
       "</style>\n",
       "<table border=\"1\" class=\"dataframe\">\n",
       "  <thead>\n",
       "    <tr style=\"text-align: right;\">\n",
       "      <th></th>\n",
       "      <th>Life expectancy</th>\n",
       "      <th>Adult Mortality</th>\n",
       "      <th>infant deaths</th>\n",
       "      <th>Alcohol</th>\n",
       "      <th>percentage expenditure</th>\n",
       "      <th>Hepatitis B</th>\n",
       "      <th>Polio</th>\n",
       "      <th>Total expenditure</th>\n",
       "      <th>Diphtheria</th>\n",
       "      <th>GDP</th>\n",
       "      <th>Population</th>\n",
       "      <th>Income composition of resources</th>\n",
       "      <th>Schooling</th>\n",
       "    </tr>\n",
       "  </thead>\n",
       "  <tbody>\n",
       "    <tr>\n",
       "      <th>0</th>\n",
       "      <td>65.0</td>\n",
       "      <td>263.0</td>\n",
       "      <td>62</td>\n",
       "      <td>0.01</td>\n",
       "      <td>71.279624</td>\n",
       "      <td>65.0</td>\n",
       "      <td>6.0</td>\n",
       "      <td>8.16</td>\n",
       "      <td>65.0</td>\n",
       "      <td>584.259210</td>\n",
       "      <td>33736494.0</td>\n",
       "      <td>0.479</td>\n",
       "      <td>10.1</td>\n",
       "    </tr>\n",
       "    <tr>\n",
       "      <th>1</th>\n",
       "      <td>59.9</td>\n",
       "      <td>271.0</td>\n",
       "      <td>64</td>\n",
       "      <td>0.01</td>\n",
       "      <td>73.523582</td>\n",
       "      <td>62.0</td>\n",
       "      <td>58.0</td>\n",
       "      <td>8.18</td>\n",
       "      <td>62.0</td>\n",
       "      <td>612.696514</td>\n",
       "      <td>327582.0</td>\n",
       "      <td>0.476</td>\n",
       "      <td>10.0</td>\n",
       "    </tr>\n",
       "    <tr>\n",
       "      <th>2</th>\n",
       "      <td>59.9</td>\n",
       "      <td>268.0</td>\n",
       "      <td>66</td>\n",
       "      <td>0.01</td>\n",
       "      <td>73.219243</td>\n",
       "      <td>64.0</td>\n",
       "      <td>62.0</td>\n",
       "      <td>8.13</td>\n",
       "      <td>64.0</td>\n",
       "      <td>631.744976</td>\n",
       "      <td>31731688.0</td>\n",
       "      <td>0.470</td>\n",
       "      <td>9.9</td>\n",
       "    </tr>\n",
       "    <tr>\n",
       "      <th>3</th>\n",
       "      <td>59.5</td>\n",
       "      <td>272.0</td>\n",
       "      <td>69</td>\n",
       "      <td>0.01</td>\n",
       "      <td>78.184215</td>\n",
       "      <td>67.0</td>\n",
       "      <td>67.0</td>\n",
       "      <td>8.52</td>\n",
       "      <td>67.0</td>\n",
       "      <td>669.959000</td>\n",
       "      <td>3696958.0</td>\n",
       "      <td>0.463</td>\n",
       "      <td>9.8</td>\n",
       "    </tr>\n",
       "    <tr>\n",
       "      <th>4</th>\n",
       "      <td>59.2</td>\n",
       "      <td>275.0</td>\n",
       "      <td>71</td>\n",
       "      <td>0.01</td>\n",
       "      <td>7.097109</td>\n",
       "      <td>68.0</td>\n",
       "      <td>68.0</td>\n",
       "      <td>7.87</td>\n",
       "      <td>68.0</td>\n",
       "      <td>63.537231</td>\n",
       "      <td>2978599.0</td>\n",
       "      <td>0.454</td>\n",
       "      <td>9.5</td>\n",
       "    </tr>\n",
       "  </tbody>\n",
       "</table>\n",
       "</div>"
      ],
      "text/plain": [
       "   Life expectancy  Adult Mortality  infant deaths  Alcohol  \\\n",
       "0             65.0            263.0             62     0.01   \n",
       "1             59.9            271.0             64     0.01   \n",
       "2             59.9            268.0             66     0.01   \n",
       "3             59.5            272.0             69     0.01   \n",
       "4             59.2            275.0             71     0.01   \n",
       "\n",
       "   percentage expenditure  Hepatitis B  Polio  Total expenditure  Diphtheria  \\\n",
       "0               71.279624         65.0    6.0               8.16        65.0   \n",
       "1               73.523582         62.0   58.0               8.18        62.0   \n",
       "2               73.219243         64.0   62.0               8.13        64.0   \n",
       "3               78.184215         67.0   67.0               8.52        67.0   \n",
       "4                7.097109         68.0   68.0               7.87        68.0   \n",
       "\n",
       "          GDP  Population  Income composition of resources  Schooling  \n",
       "0  584.259210  33736494.0                            0.479       10.1  \n",
       "1  612.696514    327582.0                            0.476       10.0  \n",
       "2  631.744976  31731688.0                            0.470        9.9  \n",
       "3  669.959000   3696958.0                            0.463        9.8  \n",
       "4   63.537231   2978599.0                            0.454        9.5  "
      ]
     },
     "execution_count": 29,
     "metadata": {},
     "output_type": "execute_result"
    }
   ],
   "source": [
    "x.head()"
   ]
  },
  {
   "cell_type": "markdown",
   "metadata": {},
   "source": [
    "# Checking Null Values"
   ]
  },
  {
   "cell_type": "code",
   "execution_count": 30,
   "metadata": {},
   "outputs": [
    {
     "data": {
      "text/plain": [
       "Life expectancy                     10\n",
       "Adult Mortality                     10\n",
       "infant deaths                        0\n",
       "Alcohol                            194\n",
       "percentage expenditure               0\n",
       "Hepatitis B                        553\n",
       "Polio                               19\n",
       "Total expenditure                  226\n",
       "Diphtheria                          19\n",
       "GDP                                448\n",
       "Population                         652\n",
       "Income composition of resources    167\n",
       "Schooling                          163\n",
       "dtype: int64"
      ]
     },
     "execution_count": 30,
     "metadata": {},
     "output_type": "execute_result"
    }
   ],
   "source": [
    "x.isnull().sum()"
   ]
  },
  {
   "cell_type": "markdown",
   "metadata": {},
   "source": [
    "# Imputing  the null values"
   ]
  },
  {
   "cell_type": "code",
   "execution_count": 32,
   "metadata": {},
   "outputs": [],
   "source": [
    "for f in x.columns :\n",
    "    if x[f].dtypes==\"float64\" :\n",
    "        x[f].fillna(value=x[f].mean(),inplace=True)\n",
    "    else :\n",
    "        pass"
   ]
  },
  {
   "cell_type": "markdown",
   "metadata": {},
   "source": [
    "# Rechecking The null values"
   ]
  },
  {
   "cell_type": "code",
   "execution_count": 33,
   "metadata": {},
   "outputs": [
    {
     "data": {
      "text/plain": [
       "Life expectancy                    0\n",
       "Adult Mortality                    0\n",
       "infant deaths                      0\n",
       "Alcohol                            0\n",
       "percentage expenditure             0\n",
       "Hepatitis B                        0\n",
       "Polio                              0\n",
       "Total expenditure                  0\n",
       "Diphtheria                         0\n",
       "GDP                                0\n",
       "Population                         0\n",
       "Income composition of resources    0\n",
       "Schooling                          0\n",
       "dtype: int64"
      ]
     },
     "execution_count": 33,
     "metadata": {},
     "output_type": "execute_result"
    }
   ],
   "source": [
    "x.isnull().sum()"
   ]
  },
  {
   "cell_type": "markdown",
   "metadata": {},
   "source": [
    "# Standard Normalization"
   ]
  },
  {
   "cell_type": "code",
   "execution_count": 34,
   "metadata": {},
   "outputs": [],
   "source": [
    "from scipy.stats import zscore"
   ]
  },
  {
   "cell_type": "code",
   "execution_count": 37,
   "metadata": {},
   "outputs": [],
   "source": [
    "a=zscore(x)"
   ]
  },
  {
   "cell_type": "code",
   "execution_count": 38,
   "metadata": {},
   "outputs": [],
   "source": [
    "b=pd.DataFrame(a,columns=x.columns)"
   ]
  },
  {
   "cell_type": "code",
   "execution_count": 39,
   "metadata": {},
   "outputs": [
    {
     "data": {
      "text/html": [
       "<div>\n",
       "<style scoped>\n",
       "    .dataframe tbody tr th:only-of-type {\n",
       "        vertical-align: middle;\n",
       "    }\n",
       "\n",
       "    .dataframe tbody tr th {\n",
       "        vertical-align: top;\n",
       "    }\n",
       "\n",
       "    .dataframe thead th {\n",
       "        text-align: right;\n",
       "    }\n",
       "</style>\n",
       "<table border=\"1\" class=\"dataframe\">\n",
       "  <thead>\n",
       "    <tr style=\"text-align: right;\">\n",
       "      <th></th>\n",
       "      <th>Life expectancy</th>\n",
       "      <th>Adult Mortality</th>\n",
       "      <th>infant deaths</th>\n",
       "      <th>Alcohol</th>\n",
       "      <th>percentage expenditure</th>\n",
       "      <th>Hepatitis B</th>\n",
       "      <th>Polio</th>\n",
       "      <th>Total expenditure</th>\n",
       "      <th>Diphtheria</th>\n",
       "      <th>GDP</th>\n",
       "      <th>Population</th>\n",
       "      <th>Income composition of resources</th>\n",
       "      <th>Schooling</th>\n",
       "    </tr>\n",
       "  </thead>\n",
       "  <tbody>\n",
       "    <tr>\n",
       "      <th>0</th>\n",
       "      <td>-0.444448</td>\n",
       "      <td>0.791586</td>\n",
       "      <td>0.268824</td>\n",
       "      <td>-1.172958</td>\n",
       "      <td>-0.335570</td>\n",
       "      <td>-0.705861</td>\n",
       "      <td>-3.278638</td>\n",
       "      <td>0.925806</td>\n",
       "      <td>-0.732952</td>\n",
       "      <td>-0.525248</td>\n",
       "      <td>0.389975</td>\n",
       "      <td>-0.725401</td>\n",
       "      <td>-0.579931</td>\n",
       "    </tr>\n",
       "    <tr>\n",
       "      <th>1</th>\n",
       "      <td>-0.980950</td>\n",
       "      <td>0.856072</td>\n",
       "      <td>0.285786</td>\n",
       "      <td>-1.172958</td>\n",
       "      <td>-0.334441</td>\n",
       "      <td>-0.838704</td>\n",
       "      <td>-1.051482</td>\n",
       "      <td>0.934140</td>\n",
       "      <td>-0.859877</td>\n",
       "      <td>-0.523083</td>\n",
       "      <td>-0.230936</td>\n",
       "      <td>-0.740050</td>\n",
       "      <td>-0.610570</td>\n",
       "    </tr>\n",
       "    <tr>\n",
       "      <th>2</th>\n",
       "      <td>-0.980950</td>\n",
       "      <td>0.831890</td>\n",
       "      <td>0.302749</td>\n",
       "      <td>-1.172958</td>\n",
       "      <td>-0.334594</td>\n",
       "      <td>-0.750142</td>\n",
       "      <td>-0.880163</td>\n",
       "      <td>0.913306</td>\n",
       "      <td>-0.775260</td>\n",
       "      <td>-0.521632</td>\n",
       "      <td>0.352715</td>\n",
       "      <td>-0.769349</td>\n",
       "      <td>-0.641209</td>\n",
       "    </tr>\n",
       "    <tr>\n",
       "      <th>3</th>\n",
       "      <td>-1.023029</td>\n",
       "      <td>0.864132</td>\n",
       "      <td>0.328193</td>\n",
       "      <td>-1.172958</td>\n",
       "      <td>-0.332096</td>\n",
       "      <td>-0.617299</td>\n",
       "      <td>-0.666013</td>\n",
       "      <td>1.075815</td>\n",
       "      <td>-0.648335</td>\n",
       "      <td>-0.518723</td>\n",
       "      <td>-0.168315</td>\n",
       "      <td>-0.803531</td>\n",
       "      <td>-0.671847</td>\n",
       "    </tr>\n",
       "    <tr>\n",
       "      <th>4</th>\n",
       "      <td>-1.054587</td>\n",
       "      <td>0.888314</td>\n",
       "      <td>0.345155</td>\n",
       "      <td>-1.172958</td>\n",
       "      <td>-0.367862</td>\n",
       "      <td>-0.573018</td>\n",
       "      <td>-0.623183</td>\n",
       "      <td>0.804966</td>\n",
       "      <td>-0.606027</td>\n",
       "      <td>-0.564893</td>\n",
       "      <td>-0.181666</td>\n",
       "      <td>-0.847480</td>\n",
       "      <td>-0.763764</td>\n",
       "    </tr>\n",
       "    <tr>\n",
       "      <th>...</th>\n",
       "      <td>...</td>\n",
       "      <td>...</td>\n",
       "      <td>...</td>\n",
       "      <td>...</td>\n",
       "      <td>...</td>\n",
       "      <td>...</td>\n",
       "      <td>...</td>\n",
       "      <td>...</td>\n",
       "      <td>...</td>\n",
       "      <td>...</td>\n",
       "      <td>...</td>\n",
       "      <td>...</td>\n",
       "      <td>...</td>\n",
       "    </tr>\n",
       "    <tr>\n",
       "      <th>2933</th>\n",
       "      <td>-2.622015</td>\n",
       "      <td>4.499494</td>\n",
       "      <td>-0.028022</td>\n",
       "      <td>-0.062024</td>\n",
       "      <td>-0.371433</td>\n",
       "      <td>-0.573018</td>\n",
       "      <td>-0.666013</td>\n",
       "      <td>0.496616</td>\n",
       "      <td>-0.732952</td>\n",
       "      <td>-0.535137</td>\n",
       "      <td>0.000449</td>\n",
       "      <td>-1.076989</td>\n",
       "      <td>-0.855681</td>\n",
       "    </tr>\n",
       "    <tr>\n",
       "      <th>2934</th>\n",
       "      <td>-2.600976</td>\n",
       "      <td>4.435009</td>\n",
       "      <td>-0.036503</td>\n",
       "      <td>-0.138640</td>\n",
       "      <td>-0.371433</td>\n",
       "      <td>-3.274163</td>\n",
       "      <td>-3.235808</td>\n",
       "      <td>0.242435</td>\n",
       "      <td>-0.606027</td>\n",
       "      <td>-0.535214</td>\n",
       "      <td>-0.002221</td>\n",
       "      <td>-1.023274</td>\n",
       "      <td>-0.763764</td>\n",
       "    </tr>\n",
       "    <tr>\n",
       "      <th>2935</th>\n",
       "      <td>-2.569417</td>\n",
       "      <td>-0.739941</td>\n",
       "      <td>-0.044984</td>\n",
       "      <td>-0.044146</td>\n",
       "      <td>-0.371433</td>\n",
       "      <td>-0.351612</td>\n",
       "      <td>-0.409034</td>\n",
       "      <td>0.246602</td>\n",
       "      <td>-0.479102</td>\n",
       "      <td>-0.565364</td>\n",
       "      <td>-0.234691</td>\n",
       "      <td>-0.979326</td>\n",
       "      <td>-0.610570</td>\n",
       "    </tr>\n",
       "    <tr>\n",
       "      <th>2936</th>\n",
       "      <td>-2.516818</td>\n",
       "      <td>4.201249</td>\n",
       "      <td>-0.044984</td>\n",
       "      <td>-0.736246</td>\n",
       "      <td>-0.371433</td>\n",
       "      <td>-0.218769</td>\n",
       "      <td>-0.280544</td>\n",
       "      <td>0.092426</td>\n",
       "      <td>-0.309869</td>\n",
       "      <td>-0.527964</td>\n",
       "      <td>-0.007196</td>\n",
       "      <td>-0.979326</td>\n",
       "      <td>-0.671847</td>\n",
       "    </tr>\n",
       "    <tr>\n",
       "      <th>2937</th>\n",
       "      <td>-2.443181</td>\n",
       "      <td>4.031975</td>\n",
       "      <td>-0.053466</td>\n",
       "      <td>-0.746462</td>\n",
       "      <td>-0.371433</td>\n",
       "      <td>-0.085926</td>\n",
       "      <td>-0.194884</td>\n",
       "      <td>0.484115</td>\n",
       "      <td>-0.182944</td>\n",
       "      <td>-0.528057</td>\n",
       "      <td>-0.009871</td>\n",
       "      <td>-0.945143</td>\n",
       "      <td>-0.671847</td>\n",
       "    </tr>\n",
       "  </tbody>\n",
       "</table>\n",
       "<p>2938 rows × 13 columns</p>\n",
       "</div>"
      ],
      "text/plain": [
       "      Life expectancy  Adult Mortality  infant deaths   Alcohol  \\\n",
       "0           -0.444448         0.791586       0.268824 -1.172958   \n",
       "1           -0.980950         0.856072       0.285786 -1.172958   \n",
       "2           -0.980950         0.831890       0.302749 -1.172958   \n",
       "3           -1.023029         0.864132       0.328193 -1.172958   \n",
       "4           -1.054587         0.888314       0.345155 -1.172958   \n",
       "...               ...              ...            ...       ...   \n",
       "2933        -2.622015         4.499494      -0.028022 -0.062024   \n",
       "2934        -2.600976         4.435009      -0.036503 -0.138640   \n",
       "2935        -2.569417        -0.739941      -0.044984 -0.044146   \n",
       "2936        -2.516818         4.201249      -0.044984 -0.736246   \n",
       "2937        -2.443181         4.031975      -0.053466 -0.746462   \n",
       "\n",
       "      percentage expenditure  Hepatitis B     Polio  Total expenditure  \\\n",
       "0                  -0.335570    -0.705861 -3.278638           0.925806   \n",
       "1                  -0.334441    -0.838704 -1.051482           0.934140   \n",
       "2                  -0.334594    -0.750142 -0.880163           0.913306   \n",
       "3                  -0.332096    -0.617299 -0.666013           1.075815   \n",
       "4                  -0.367862    -0.573018 -0.623183           0.804966   \n",
       "...                      ...          ...       ...                ...   \n",
       "2933               -0.371433    -0.573018 -0.666013           0.496616   \n",
       "2934               -0.371433    -3.274163 -3.235808           0.242435   \n",
       "2935               -0.371433    -0.351612 -0.409034           0.246602   \n",
       "2936               -0.371433    -0.218769 -0.280544           0.092426   \n",
       "2937               -0.371433    -0.085926 -0.194884           0.484115   \n",
       "\n",
       "      Diphtheria       GDP  Population  Income composition of resources  \\\n",
       "0      -0.732952 -0.525248    0.389975                        -0.725401   \n",
       "1      -0.859877 -0.523083   -0.230936                        -0.740050   \n",
       "2      -0.775260 -0.521632    0.352715                        -0.769349   \n",
       "3      -0.648335 -0.518723   -0.168315                        -0.803531   \n",
       "4      -0.606027 -0.564893   -0.181666                        -0.847480   \n",
       "...          ...       ...         ...                              ...   \n",
       "2933   -0.732952 -0.535137    0.000449                        -1.076989   \n",
       "2934   -0.606027 -0.535214   -0.002221                        -1.023274   \n",
       "2935   -0.479102 -0.565364   -0.234691                        -0.979326   \n",
       "2936   -0.309869 -0.527964   -0.007196                        -0.979326   \n",
       "2937   -0.182944 -0.528057   -0.009871                        -0.945143   \n",
       "\n",
       "      Schooling  \n",
       "0     -0.579931  \n",
       "1     -0.610570  \n",
       "2     -0.641209  \n",
       "3     -0.671847  \n",
       "4     -0.763764  \n",
       "...         ...  \n",
       "2933  -0.855681  \n",
       "2934  -0.763764  \n",
       "2935  -0.610570  \n",
       "2936  -0.671847  \n",
       "2937  -0.671847  \n",
       "\n",
       "[2938 rows x 13 columns]"
      ]
     },
     "execution_count": 39,
     "metadata": {},
     "output_type": "execute_result"
    }
   ],
   "source": [
    "b"
   ]
  },
  {
   "cell_type": "markdown",
   "metadata": {},
   "source": [
    "# Performing Outlier Treatment"
   ]
  },
  {
   "cell_type": "code",
   "execution_count": 40,
   "metadata": {},
   "outputs": [],
   "source": [
    "import seaborn as sns"
   ]
  },
  {
   "cell_type": "code",
   "execution_count": 41,
   "metadata": {},
   "outputs": [
    {
     "data": {
      "text/plain": [
       "<matplotlib.axes._subplots.AxesSubplot at 0x1e227e13808>"
      ]
     },
     "execution_count": 41,
     "metadata": {},
     "output_type": "execute_result"
    },
    {
     "data": {
      "image/png": "[encoded data removed]",
      "text/plain": [
       "<Figure size 432x288 with 1 Axes>"
      ]
     },
     "metadata": {
      "needs_background": "light"
     },
     "output_type": "display_data"
    }
   ],
   "source": [
    "sns.boxplot(x[\"Life expectancy\"])"
   ]
  },
  {
   "cell_type": "code",
   "execution_count": 42,
   "metadata": {},
   "outputs": [],
   "source": [
    "lower=x[\"Life expectancy\"].quantile(0.25)-(1.5*iqr(x[\"Life expectancy\"]))"
   ]
  },
  {
   "cell_type": "code",
   "execution_count": 43,
   "metadata": {},
   "outputs": [],
   "source": [
    "upper=x[\"Life expectancy\"].quantile(0.75)+(1.5*iqr(x[\"Life expectancy\"]))"
   ]
  },
  {
   "cell_type": "code",
   "execution_count": 44,
   "metadata": {},
   "outputs": [],
   "source": [
    "x[\"Life expectancy\"].clip(lower,upper,inplace=True)"
   ]
  },
  {
   "cell_type": "code",
   "execution_count": 45,
   "metadata": {},
   "outputs": [
    {
     "data": {
      "text/plain": [
       "<matplotlib.axes._subplots.AxesSubplot at 0x1e228368e08>"
      ]
     },
     "execution_count": 45,
     "metadata": {},
     "output_type": "execute_result"
    },
    {
     "data": {
      "image/png": "[encoded data removed]",
      "text/plain": [
       "<Figure size 432x288 with 1 Axes>"
      ]
     },
     "metadata": {
      "needs_background": "light"
     },
     "output_type": "display_data"
    }
   ],
   "source": [
    "sns.boxplot(x[\"Life expectancy\"])"
   ]
  },
  {
   "cell_type": "code",
   "execution_count": 46,
   "metadata": {},
   "outputs": [
    {
     "data": {
      "text/plain": [
       "<matplotlib.axes._subplots.AxesSubplot at 0x1e223eb3508>"
      ]
     },
     "execution_count": 46,
     "metadata": {},
     "output_type": "execute_result"
    },
    {
     "data": {
      "image/png": "[encoded data removed]",
      "text/plain": [
       "<Figure size 432x288 with 1 Axes>"
      ]
     },
     "metadata": {
      "needs_background": "light"
     },
     "output_type": "display_data"
    }
   ],
   "source": [
    "sns.boxplot(x[\"Adult Mortality\"])"
   ]
  },
  {
   "cell_type": "code",
   "execution_count": 47,
   "metadata": {},
   "outputs": [],
   "source": [
    "lower=x[\"Adult Mortality\"].quantile(0.25)-(1.5*iqr(x[\"Adult Mortality\"]))"
   ]
  },
  {
   "cell_type": "code",
   "execution_count": 48,
   "metadata": {},
   "outputs": [],
   "source": [
    "upper=x[\"Adult Mortality\"].quantile(0.75)+(1.5*iqr(x[\"Adult Mortality\"]))"
   ]
  },
  {
   "cell_type": "code",
   "execution_count": 49,
   "metadata": {},
   "outputs": [],
   "source": [
    "x['Adult Mortality'].clip(lower,upper,inplace=True)"
   ]
  },
  {
   "cell_type": "code",
   "execution_count": 50,
   "metadata": {},
   "outputs": [
    {
     "data": {
      "text/plain": [
       "<matplotlib.axes._subplots.AxesSubplot at 0x1e2285011c8>"
      ]
     },
     "execution_count": 50,
     "metadata": {},
     "output_type": "execute_result"
    },
    {
     "data": {
      "image/png": "[encoded data removed]",
      "text/plain": [
       "<Figure size 432x288 with 1 Axes>"
      ]
     },
     "metadata": {
      "needs_background": "light"
     },
     "output_type": "display_data"
    }
   ],
   "source": [
    "sns.boxplot(x[\"Adult Mortality\"])"
   ]
  },
  {
   "cell_type": "markdown",
   "metadata": {},
   "source": [
    "# Performing Transformations"
   ]
  },
  {
   "cell_type": "code",
   "execution_count": 54,
   "metadata": {},
   "outputs": [],
   "source": [
    "import numpy as np"
   ]
  },
  {
   "cell_type": "code",
   "execution_count": 66,
   "metadata": {},
   "outputs": [],
   "source": [
    "c=x[\"Life expectancy\"]"
   ]
  },
  {
   "cell_type": "code",
   "execution_count": 67,
   "metadata": {},
   "outputs": [],
   "source": [
    "l=pd.DataFrame(c)"
   ]
  },
  {
   "cell_type": "code",
   "execution_count": 68,
   "metadata": {},
   "outputs": [
    {
     "data": {
      "text/html": [
       "<div>\n",
       "<style scoped>\n",
       "    .dataframe tbody tr th:only-of-type {\n",
       "        vertical-align: middle;\n",
       "    }\n",
       "\n",
       "    .dataframe tbody tr th {\n",
       "        vertical-align: top;\n",
       "    }\n",
       "\n",
       "    .dataframe thead th {\n",
       "        text-align: right;\n",
       "    }\n",
       "</style>\n",
       "<table border=\"1\" class=\"dataframe\">\n",
       "  <thead>\n",
       "    <tr style=\"text-align: right;\">\n",
       "      <th></th>\n",
       "      <th>Life expectancy</th>\n",
       "    </tr>\n",
       "  </thead>\n",
       "  <tbody>\n",
       "    <tr>\n",
       "      <th>0</th>\n",
       "      <td>8.062258</td>\n",
       "    </tr>\n",
       "    <tr>\n",
       "      <th>1</th>\n",
       "      <td>7.739509</td>\n",
       "    </tr>\n",
       "    <tr>\n",
       "      <th>2</th>\n",
       "      <td>7.739509</td>\n",
       "    </tr>\n",
       "    <tr>\n",
       "      <th>3</th>\n",
       "      <td>7.713624</td>\n",
       "    </tr>\n",
       "    <tr>\n",
       "      <th>4</th>\n",
       "      <td>7.694154</td>\n",
       "    </tr>\n",
       "    <tr>\n",
       "      <th>...</th>\n",
       "      <td>...</td>\n",
       "    </tr>\n",
       "    <tr>\n",
       "      <th>2933</th>\n",
       "      <td>6.678323</td>\n",
       "    </tr>\n",
       "    <tr>\n",
       "      <th>2934</th>\n",
       "      <td>6.678323</td>\n",
       "    </tr>\n",
       "    <tr>\n",
       "      <th>2935</th>\n",
       "      <td>6.693280</td>\n",
       "    </tr>\n",
       "    <tr>\n",
       "      <th>2936</th>\n",
       "      <td>6.730527</td>\n",
       "    </tr>\n",
       "    <tr>\n",
       "      <th>2937</th>\n",
       "      <td>6.782330</td>\n",
       "    </tr>\n",
       "  </tbody>\n",
       "</table>\n",
       "<p>2938 rows × 1 columns</p>\n",
       "</div>"
      ],
      "text/plain": [
       "      Life expectancy\n",
       "0            8.062258\n",
       "1            7.739509\n",
       "2            7.739509\n",
       "3            7.713624\n",
       "4            7.694154\n",
       "...               ...\n",
       "2933         6.678323\n",
       "2934         6.678323\n",
       "2935         6.693280\n",
       "2936         6.730527\n",
       "2937         6.782330\n",
       "\n",
       "[2938 rows x 1 columns]"
      ]
     },
     "execution_count": 68,
     "metadata": {},
     "output_type": "execute_result"
    }
   ],
   "source": [
    "l"
   ]
  },
  {
   "cell_type": "code",
   "execution_count": 70,
   "metadata": {},
   "outputs": [],
   "source": [
    "l[\"Life expectancy\"]=np.log(l[\"Life expectancy\"])"
   ]
  },
  {
   "cell_type": "code",
   "execution_count": 71,
   "metadata": {},
   "outputs": [
    {
     "data": {
      "text/plain": [
       "0       2.087194\n",
       "1       2.046338\n",
       "2       2.046338\n",
       "3       2.042988\n",
       "4       2.040461\n",
       "          ...   \n",
       "2933    1.898867\n",
       "2934    1.898867\n",
       "2935    1.901104\n",
       "2936    1.906654\n",
       "2937    1.914321\n",
       "Name: Life expectancy, Length: 2938, dtype: float64"
      ]
     },
     "execution_count": 71,
     "metadata": {},
     "output_type": "execute_result"
    }
   ],
   "source": [
    "l[\"Life expectancy\"]"
   ]
  },
  {
   "cell_type": "code",
   "execution_count": 72,
   "metadata": {},
   "outputs": [],
   "source": [
    "l[\"Life expectancy\"]=np.sqrt(l[\"Life expectancy\"])"
   ]
  },
  {
   "cell_type": "code",
   "execution_count": 73,
   "metadata": {},
   "outputs": [
    {
     "data": {
      "text/plain": [
       "0       1.444712\n",
       "1       1.430503\n",
       "2       1.430503\n",
       "3       1.429331\n",
       "4       1.428447\n",
       "          ...   \n",
       "2933    1.377994\n",
       "2934    1.377994\n",
       "2935    1.378805\n",
       "2936    1.380816\n",
       "2937    1.383590\n",
       "Name: Life expectancy, Length: 2938, dtype: float64"
      ]
     },
     "execution_count": 73,
     "metadata": {},
     "output_type": "execute_result"
    }
   ],
   "source": [
    "l[\"Life expectancy\"]"
   ]
  },
  {
   "cell_type": "code",
   "execution_count": 74,
   "metadata": {},
   "outputs": [],
   "source": [
    "l[\"Life expectancy\"]=1/l[\"Life expectancy\"]"
   ]
  },
  {
   "cell_type": "code",
   "execution_count": 75,
   "metadata": {},
   "outputs": [
    {
     "data": {
      "text/plain": [
       "0       0.692179\n",
       "1       0.699055\n",
       "2       0.699055\n",
       "3       0.699628\n",
       "4       0.700061\n",
       "          ...   \n",
       "2933    0.725693\n",
       "2934    0.725693\n",
       "2935    0.725266\n",
       "2936    0.724209\n",
       "2937    0.722758\n",
       "Name: Life expectancy, Length: 2938, dtype: float64"
      ]
     },
     "execution_count": 75,
     "metadata": {},
     "output_type": "execute_result"
    }
   ],
   "source": [
    "l[\"Life expectancy\"]"
   ]
  },
  {
   "cell_type": "markdown",
   "metadata": {},
   "source": [
    "# Statistics"
   ]
  },
  {
   "cell_type": "markdown",
   "metadata": {},
   "source": [
    "# To find a Quartile and Percentile of a given data"
   ]
  },
  {
   "cell_type": "markdown",
   "metadata": {},
   "source": [
    "# To Find the percentile of  adults Mortality below 70 "
   ]
  },
  {
   "cell_type": "code",
   "execution_count": 81,
   "metadata": {},
   "outputs": [
    {
     "data": {
      "text/plain": [
       "0.21276691344287157"
      ]
     },
     "execution_count": 81,
     "metadata": {},
     "output_type": "execute_result"
    }
   ],
   "source": [
    "norm.cdf(70,x[\"Adult Mortality\"].mean(),x[\"Adult Mortality\"].std())"
   ]
  },
  {
   "cell_type": "markdown",
   "metadata": {},
   "source": [
    "# To Find the  percentile of adults Mortality between 65 and 70"
   ]
  },
  {
   "cell_type": "code",
   "execution_count": 87,
   "metadata": {},
   "outputs": [
    {
     "data": {
      "text/plain": [
       "0.0123557641642138"
      ]
     },
     "execution_count": 87,
     "metadata": {},
     "output_type": "execute_result"
    }
   ],
   "source": [
    "norm.cdf(70,x[\"Adult Mortality\"].mean(),x['Adult Mortality'].std())-norm.cdf(65,x[\"Adult Mortality\"].mean(),x[\"Adult Mortality\"].std())"
   ]
  },
  {
   "cell_type": "markdown",
   "metadata": {},
   "source": [
    "# To find the  percentile of adults Mortality Above 70"
   ]
  },
  {
   "cell_type": "code",
   "execution_count": 88,
   "metadata": {},
   "outputs": [
    {
     "data": {
      "text/plain": [
       "0.7872330865571284"
      ]
     },
     "execution_count": 88,
     "metadata": {},
     "output_type": "execute_result"
    }
   ],
   "source": [
    "1-norm.cdf(70,x[\"Adult Mortality\"].mean(),x[\"Adult Mortality\"].std())"
   ]
  },
  {
   "cell_type": "markdown",
   "metadata": {},
   "source": [
    "# To find the value at a given Percentile"
   ]
  },
  {
   "cell_type": "code",
   "execution_count": 89,
   "metadata": {},
   "outputs": [
    {
     "data": {
      "text/plain": [
       "153.3317016673574"
      ]
     },
     "execution_count": 89,
     "metadata": {},
     "output_type": "execute_result"
    }
   ],
   "source": [
    "norm.ppf(0.47,x[\"Adult Mortality\"].mean(),x[\"Adult Mortality\"].std())"
   ]
  },
  {
   "cell_type": "code",
   "execution_count": 90,
   "metadata": {},
   "outputs": [
    {
     "data": {
      "text/plain": [
       "84.13149092392702"
      ]
     },
     "execution_count": 90,
     "metadata": {},
     "output_type": "execute_result"
    }
   ],
   "source": [
    "norm.ppf(0.25,x[\"Adult Mortality\"].mean(),x['Adult Mortality'].std())"
   ]
  },
  {
   "cell_type": "markdown",
   "metadata": {},
   "source": [
    "# T test ( One Continous and One Discrete Variable)"
   ]
  },
  {
   "cell_type": "code",
   "execution_count": 117,
   "metadata": {},
   "outputs": [],
   "source": [
    "from scipy.stats import ttest_ind"
   ]
  },
  {
   "cell_type": "code",
   "execution_count": 118,
   "metadata": {},
   "outputs": [],
   "source": [
    "s1=x[x[\"Life expectancy\"]>6] [\"Alcohol\"]\n",
    "s2=x[x[\"Life expectancy\"]>7] [\"Alcohol\"]"
   ]
  },
  {
   "cell_type": "code",
   "execution_count": 119,
   "metadata": {},
   "outputs": [
    {
     "data": {
      "text/plain": [
       "Ttest_indResult(statistic=-0.321531933984513, pvalue=0.7478189565566725)"
      ]
     },
     "execution_count": 119,
     "metadata": {},
     "output_type": "execute_result"
    }
   ],
   "source": [
    "ttest_ind(s1,s2)"
   ]
  },
  {
   "cell_type": "markdown",
   "metadata": {},
   "source": [
    "# F test  (One Continous and One Discrete Variable)"
   ]
  },
  {
   "cell_type": "code",
   "execution_count": 121,
   "metadata": {},
   "outputs": [],
   "source": [
    "s1=x[x[\"Polio\"]>8] [\"Alcohol\"]\n",
    "s2=x[x[\"Polio\"]==8] [\"Alcohol\"]\n"
   ]
  },
  {
   "cell_type": "code",
   "execution_count": 122,
   "metadata": {},
   "outputs": [
    {
     "data": {
      "text/plain": [
       "F_onewayResult(statistic=13.339738785726126, pvalue=0.0002644773024534814)"
      ]
     },
     "execution_count": 122,
     "metadata": {},
     "output_type": "execute_result"
    }
   ],
   "source": [
    "f_oneway(s1,s2)"
   ]
  },
  {
   "cell_type": "markdown",
   "metadata": {},
   "source": [
    "# Chi Square Test ( TwoCategorical  Variables)\n",
    "# Here No  Categorical Variables Present  can't Perform Chi Square Test"
   ]
  },
  {
   "cell_type": "markdown",
   "metadata": {},
   "source": [
    "# Correlation ( Two Continous Variables)"
   ]
  },
  {
   "cell_type": "code",
   "execution_count": 125,
   "metadata": {},
   "outputs": [
    {
     "data": {
      "text/html": [
       "<div>\n",
       "<style scoped>\n",
       "    .dataframe tbody tr th:only-of-type {\n",
       "        vertical-align: middle;\n",
       "    }\n",
       "\n",
       "    .dataframe tbody tr th {\n",
       "        vertical-align: top;\n",
       "    }\n",
       "\n",
       "    .dataframe thead th {\n",
       "        text-align: right;\n",
       "    }\n",
       "</style>\n",
       "<table border=\"1\" class=\"dataframe\">\n",
       "  <thead>\n",
       "    <tr style=\"text-align: right;\">\n",
       "      <th></th>\n",
       "      <th>Life expectancy</th>\n",
       "      <th>Adult Mortality</th>\n",
       "      <th>infant deaths</th>\n",
       "      <th>Alcohol</th>\n",
       "      <th>percentage expenditure</th>\n",
       "      <th>Hepatitis B</th>\n",
       "      <th>Polio</th>\n",
       "      <th>Total expenditure</th>\n",
       "      <th>Diphtheria</th>\n",
       "      <th>GDP</th>\n",
       "      <th>Population</th>\n",
       "      <th>Income composition of resources</th>\n",
       "      <th>Schooling</th>\n",
       "    </tr>\n",
       "  </thead>\n",
       "  <tbody>\n",
       "    <tr>\n",
       "      <th>Life expectancy</th>\n",
       "      <td>1.000000</td>\n",
       "      <td>-0.690584</td>\n",
       "      <td>-0.195029</td>\n",
       "      <td>0.381112</td>\n",
       "      <td>0.368457</td>\n",
       "      <td>0.204600</td>\n",
       "      <td>0.462683</td>\n",
       "      <td>0.201995</td>\n",
       "      <td>0.477137</td>\n",
       "      <td>0.417585</td>\n",
       "      <td>-0.017342</td>\n",
       "      <td>0.686654</td>\n",
       "      <td>0.708034</td>\n",
       "    </tr>\n",
       "    <tr>\n",
       "      <th>Adult Mortality</th>\n",
       "      <td>-0.690584</td>\n",
       "      <td>1.000000</td>\n",
       "      <td>0.086195</td>\n",
       "      <td>-0.199036</td>\n",
       "      <td>-0.253165</td>\n",
       "      <td>-0.138778</td>\n",
       "      <td>-0.285867</td>\n",
       "      <td>-0.126845</td>\n",
       "      <td>-0.286619</td>\n",
       "      <td>-0.286132</td>\n",
       "      <td>-0.010035</td>\n",
       "      <td>-0.451604</td>\n",
       "      <td>-0.453832</td>\n",
       "    </tr>\n",
       "    <tr>\n",
       "      <th>infant deaths</th>\n",
       "      <td>-0.195029</td>\n",
       "      <td>0.086195</td>\n",
       "      <td>1.000000</td>\n",
       "      <td>-0.113812</td>\n",
       "      <td>-0.085612</td>\n",
       "      <td>-0.178783</td>\n",
       "      <td>-0.170674</td>\n",
       "      <td>-0.126564</td>\n",
       "      <td>-0.175156</td>\n",
       "      <td>-0.107109</td>\n",
       "      <td>0.548522</td>\n",
       "      <td>-0.143663</td>\n",
       "      <td>-0.191757</td>\n",
       "    </tr>\n",
       "    <tr>\n",
       "      <th>Alcohol</th>\n",
       "      <td>0.381112</td>\n",
       "      <td>-0.199036</td>\n",
       "      <td>-0.113812</td>\n",
       "      <td>1.000000</td>\n",
       "      <td>0.339634</td>\n",
       "      <td>0.075447</td>\n",
       "      <td>0.213744</td>\n",
       "      <td>0.294898</td>\n",
       "      <td>0.215242</td>\n",
       "      <td>0.318591</td>\n",
       "      <td>-0.030765</td>\n",
       "      <td>0.416099</td>\n",
       "      <td>0.497546</td>\n",
       "    </tr>\n",
       "    <tr>\n",
       "      <th>percentage expenditure</th>\n",
       "      <td>0.368457</td>\n",
       "      <td>-0.253165</td>\n",
       "      <td>-0.085612</td>\n",
       "      <td>0.339634</td>\n",
       "      <td>1.000000</td>\n",
       "      <td>0.011679</td>\n",
       "      <td>0.147203</td>\n",
       "      <td>0.173414</td>\n",
       "      <td>0.143570</td>\n",
       "      <td>0.888140</td>\n",
       "      <td>-0.024648</td>\n",
       "      <td>0.380374</td>\n",
       "      <td>0.388105</td>\n",
       "    </tr>\n",
       "    <tr>\n",
       "      <th>Hepatitis B</th>\n",
       "      <td>0.204600</td>\n",
       "      <td>-0.138778</td>\n",
       "      <td>-0.178783</td>\n",
       "      <td>0.075447</td>\n",
       "      <td>0.011679</td>\n",
       "      <td>1.000000</td>\n",
       "      <td>0.408519</td>\n",
       "      <td>0.050084</td>\n",
       "      <td>0.499958</td>\n",
       "      <td>0.062318</td>\n",
       "      <td>-0.109811</td>\n",
       "      <td>0.150992</td>\n",
       "      <td>0.171755</td>\n",
       "    </tr>\n",
       "    <tr>\n",
       "      <th>Polio</th>\n",
       "      <td>0.462683</td>\n",
       "      <td>-0.285867</td>\n",
       "      <td>-0.170674</td>\n",
       "      <td>0.213744</td>\n",
       "      <td>0.147203</td>\n",
       "      <td>0.408519</td>\n",
       "      <td>1.000000</td>\n",
       "      <td>0.130129</td>\n",
       "      <td>0.673553</td>\n",
       "      <td>0.193980</td>\n",
       "      <td>-0.034882</td>\n",
       "      <td>0.355398</td>\n",
       "      <td>0.385832</td>\n",
       "    </tr>\n",
       "    <tr>\n",
       "      <th>Total expenditure</th>\n",
       "      <td>0.201995</td>\n",
       "      <td>-0.126845</td>\n",
       "      <td>-0.126564</td>\n",
       "      <td>0.294898</td>\n",
       "      <td>0.173414</td>\n",
       "      <td>0.050084</td>\n",
       "      <td>0.130129</td>\n",
       "      <td>1.000000</td>\n",
       "      <td>0.145597</td>\n",
       "      <td>0.121467</td>\n",
       "      <td>-0.066698</td>\n",
       "      <td>0.149095</td>\n",
       "      <td>0.218310</td>\n",
       "    </tr>\n",
       "    <tr>\n",
       "      <th>Diphtheria</th>\n",
       "      <td>0.477137</td>\n",
       "      <td>-0.286619</td>\n",
       "      <td>-0.175156</td>\n",
       "      <td>0.215242</td>\n",
       "      <td>0.143570</td>\n",
       "      <td>0.499958</td>\n",
       "      <td>0.673553</td>\n",
       "      <td>0.145597</td>\n",
       "      <td>1.000000</td>\n",
       "      <td>0.182795</td>\n",
       "      <td>-0.025458</td>\n",
       "      <td>0.371729</td>\n",
       "      <td>0.389944</td>\n",
       "    </tr>\n",
       "    <tr>\n",
       "      <th>GDP</th>\n",
       "      <td>0.417585</td>\n",
       "      <td>-0.286132</td>\n",
       "      <td>-0.107109</td>\n",
       "      <td>0.318591</td>\n",
       "      <td>0.888140</td>\n",
       "      <td>0.062318</td>\n",
       "      <td>0.193980</td>\n",
       "      <td>0.121467</td>\n",
       "      <td>0.182795</td>\n",
       "      <td>1.000000</td>\n",
       "      <td>-0.025612</td>\n",
       "      <td>0.440317</td>\n",
       "      <td>0.429489</td>\n",
       "    </tr>\n",
       "    <tr>\n",
       "      <th>Population</th>\n",
       "      <td>-0.017342</td>\n",
       "      <td>-0.010035</td>\n",
       "      <td>0.548522</td>\n",
       "      <td>-0.030765</td>\n",
       "      <td>-0.024648</td>\n",
       "      <td>-0.109811</td>\n",
       "      <td>-0.034882</td>\n",
       "      <td>-0.066698</td>\n",
       "      <td>-0.025458</td>\n",
       "      <td>-0.025612</td>\n",
       "      <td>1.000000</td>\n",
       "      <td>-0.007951</td>\n",
       "      <td>-0.029465</td>\n",
       "    </tr>\n",
       "    <tr>\n",
       "      <th>Income composition of resources</th>\n",
       "      <td>0.686654</td>\n",
       "      <td>-0.451604</td>\n",
       "      <td>-0.143663</td>\n",
       "      <td>0.416099</td>\n",
       "      <td>0.380374</td>\n",
       "      <td>0.150992</td>\n",
       "      <td>0.355398</td>\n",
       "      <td>0.149095</td>\n",
       "      <td>0.371729</td>\n",
       "      <td>0.440317</td>\n",
       "      <td>-0.007951</td>\n",
       "      <td>1.000000</td>\n",
       "      <td>0.796207</td>\n",
       "    </tr>\n",
       "    <tr>\n",
       "      <th>Schooling</th>\n",
       "      <td>0.708034</td>\n",
       "      <td>-0.453832</td>\n",
       "      <td>-0.191757</td>\n",
       "      <td>0.497546</td>\n",
       "      <td>0.388105</td>\n",
       "      <td>0.171755</td>\n",
       "      <td>0.385832</td>\n",
       "      <td>0.218310</td>\n",
       "      <td>0.389944</td>\n",
       "      <td>0.429489</td>\n",
       "      <td>-0.029465</td>\n",
       "      <td>0.796207</td>\n",
       "      <td>1.000000</td>\n",
       "    </tr>\n",
       "  </tbody>\n",
       "</table>\n",
       "</div>"
      ],
      "text/plain": [
       "                                 Life expectancy  Adult Mortality  \\\n",
       "Life expectancy                         1.000000        -0.690584   \n",
       "Adult Mortality                        -0.690584         1.000000   \n",
       "infant deaths                          -0.195029         0.086195   \n",
       "Alcohol                                 0.381112        -0.199036   \n",
       "percentage expenditure                  0.368457        -0.253165   \n",
       "Hepatitis B                             0.204600        -0.138778   \n",
       "Polio                                   0.462683        -0.285867   \n",
       "Total expenditure                       0.201995        -0.126845   \n",
       "Diphtheria                              0.477137        -0.286619   \n",
       "GDP                                     0.417585        -0.286132   \n",
       "Population                             -0.017342        -0.010035   \n",
       "Income composition of resources         0.686654        -0.451604   \n",
       "Schooling                               0.708034        -0.453832   \n",
       "\n",
       "                                 infant deaths   Alcohol  \\\n",
       "Life expectancy                      -0.195029  0.381112   \n",
       "Adult Mortality                       0.086195 -0.199036   \n",
       "infant deaths                         1.000000 -0.113812   \n",
       "Alcohol                              -0.113812  1.000000   \n",
       "percentage expenditure               -0.085612  0.339634   \n",
       "Hepatitis B                          -0.178783  0.075447   \n",
       "Polio                                -0.170674  0.213744   \n",
       "Total expenditure                    -0.126564  0.294898   \n",
       "Diphtheria                           -0.175156  0.215242   \n",
       "GDP                                  -0.107109  0.318591   \n",
       "Population                            0.548522 -0.030765   \n",
       "Income composition of resources      -0.143663  0.416099   \n",
       "Schooling                            -0.191757  0.497546   \n",
       "\n",
       "                                 percentage expenditure  Hepatitis B  \\\n",
       "Life expectancy                                0.368457     0.204600   \n",
       "Adult Mortality                               -0.253165    -0.138778   \n",
       "infant deaths                                 -0.085612    -0.178783   \n",
       "Alcohol                                        0.339634     0.075447   \n",
       "percentage expenditure                         1.000000     0.011679   \n",
       "Hepatitis B                                    0.011679     1.000000   \n",
       "Polio                                          0.147203     0.408519   \n",
       "Total expenditure                              0.173414     0.050084   \n",
       "Diphtheria                                     0.143570     0.499958   \n",
       "GDP                                            0.888140     0.062318   \n",
       "Population                                    -0.024648    -0.109811   \n",
       "Income composition of resources                0.380374     0.150992   \n",
       "Schooling                                      0.388105     0.171755   \n",
       "\n",
       "                                    Polio  Total expenditure  Diphtheria  \\\n",
       "Life expectancy                  0.462683           0.201995    0.477137   \n",
       "Adult Mortality                 -0.285867          -0.126845   -0.286619   \n",
       "infant deaths                   -0.170674          -0.126564   -0.175156   \n",
       "Alcohol                          0.213744           0.294898    0.215242   \n",
       "percentage expenditure           0.147203           0.173414    0.143570   \n",
       "Hepatitis B                      0.408519           0.050084    0.499958   \n",
       "Polio                            1.000000           0.130129    0.673553   \n",
       "Total expenditure                0.130129           1.000000    0.145597   \n",
       "Diphtheria                       0.673553           0.145597    1.000000   \n",
       "GDP                              0.193980           0.121467    0.182795   \n",
       "Population                      -0.034882          -0.066698   -0.025458   \n",
       "Income composition of resources  0.355398           0.149095    0.371729   \n",
       "Schooling                        0.385832           0.218310    0.389944   \n",
       "\n",
       "                                      GDP  Population  \\\n",
       "Life expectancy                  0.417585   -0.017342   \n",
       "Adult Mortality                 -0.286132   -0.010035   \n",
       "infant deaths                   -0.107109    0.548522   \n",
       "Alcohol                          0.318591   -0.030765   \n",
       "percentage expenditure           0.888140   -0.024648   \n",
       "Hepatitis B                      0.062318   -0.109811   \n",
       "Polio                            0.193980   -0.034882   \n",
       "Total expenditure                0.121467   -0.066698   \n",
       "Diphtheria                       0.182795   -0.025458   \n",
       "GDP                              1.000000   -0.025612   \n",
       "Population                      -0.025612    1.000000   \n",
       "Income composition of resources  0.440317   -0.007951   \n",
       "Schooling                        0.429489   -0.029465   \n",
       "\n",
       "                                 Income composition of resources  Schooling  \n",
       "Life expectancy                                         0.686654   0.708034  \n",
       "Adult Mortality                                        -0.451604  -0.453832  \n",
       "infant deaths                                          -0.143663  -0.191757  \n",
       "Alcohol                                                 0.416099   0.497546  \n",
       "percentage expenditure                                  0.380374   0.388105  \n",
       "Hepatitis B                                             0.150992   0.171755  \n",
       "Polio                                                   0.355398   0.385832  \n",
       "Total expenditure                                       0.149095   0.218310  \n",
       "Diphtheria                                              0.371729   0.389944  \n",
       "GDP                                                     0.440317   0.429489  \n",
       "Population                                             -0.007951  -0.029465  \n",
       "Income composition of resources                         1.000000   0.796207  \n",
       "Schooling                                               0.796207   1.000000  "
      ]
     },
     "execution_count": 125,
     "metadata": {},
     "output_type": "execute_result"
    }
   ],
   "source": [
    "x.corr()"
   ]
  },
  {
   "cell_type": "code",
   "execution_count": 129,
   "metadata": {},
   "outputs": [],
   "source": [
    "import seaborn as sns\n",
    "import matplotlib.pyplot as plt"
   ]
  },
  {
   "cell_type": "code",
   "execution_count": 131,
   "metadata": {},
   "outputs": [
    {
     "data": {
      "text/plain": [
       "<matplotlib.axes._subplots.AxesSubplot at 0x1e22a9f29c8>"
      ]
     },
     "execution_count": 131,
     "metadata": {},
     "output_type": "execute_result"
    },
    {
     "data": {
      "image/png": "[encoded data removed]",
      "text/plain": [
       "<Figure size 864x720 with 2 Axes>"
      ]
     },
     "metadata": {
      "needs_background": "light"
     },
     "output_type": "display_data"
    }
   ],
   "source": [
    "plt.figure(figsize=(12,10))\n",
    "sns.heatmap(x.corr(),annot=True,fmt=\".1f\",linewidths=0.6)"
   ]
  },
  {
   "cell_type": "markdown",
   "metadata": {},
   "source": [
    "# Converting Continous to ordinal variable (also called as Binning)"
   ]
  },
  {
   "cell_type": "code",
   "execution_count": 168,
   "metadata": {},
   "outputs": [
    {
     "data": {
      "text/html": [
       "<div>\n",
       "<style scoped>\n",
       "    .dataframe tbody tr th:only-of-type {\n",
       "        vertical-align: middle;\n",
       "    }\n",
       "\n",
       "    .dataframe tbody tr th {\n",
       "        vertical-align: top;\n",
       "    }\n",
       "\n",
       "    .dataframe thead th {\n",
       "        text-align: right;\n",
       "    }\n",
       "</style>\n",
       "<table border=\"1\" class=\"dataframe\">\n",
       "  <thead>\n",
       "    <tr style=\"text-align: right;\">\n",
       "      <th></th>\n",
       "      <th>Life expectancy</th>\n",
       "      <th>Adult Mortality</th>\n",
       "      <th>infant deaths</th>\n",
       "      <th>Alcohol</th>\n",
       "      <th>percentage expenditure</th>\n",
       "      <th>Hepatitis B</th>\n",
       "      <th>Polio</th>\n",
       "      <th>Total expenditure</th>\n",
       "      <th>Diphtheria</th>\n",
       "      <th>GDP</th>\n",
       "      <th>Population</th>\n",
       "      <th>Income composition of resources</th>\n",
       "      <th>Schooling</th>\n",
       "      <th>New</th>\n",
       "    </tr>\n",
       "  </thead>\n",
       "  <tbody>\n",
       "    <tr>\n",
       "      <th>0</th>\n",
       "      <td>8.062258</td>\n",
       "      <td>263.0</td>\n",
       "      <td>62</td>\n",
       "      <td>0.01</td>\n",
       "      <td>71.279624</td>\n",
       "      <td>65</td>\n",
       "      <td>6.0</td>\n",
       "      <td>8.16</td>\n",
       "      <td>65.0</td>\n",
       "      <td>584.259210</td>\n",
       "      <td>33736494.0</td>\n",
       "      <td>0.479</td>\n",
       "      <td>10.1</td>\n",
       "      <td>0-500</td>\n",
       "    </tr>\n",
       "    <tr>\n",
       "      <th>1</th>\n",
       "      <td>7.739509</td>\n",
       "      <td>271.0</td>\n",
       "      <td>64</td>\n",
       "      <td>0.01</td>\n",
       "      <td>73.523582</td>\n",
       "      <td>62</td>\n",
       "      <td>58.0</td>\n",
       "      <td>8.18</td>\n",
       "      <td>62.0</td>\n",
       "      <td>612.696514</td>\n",
       "      <td>327582.0</td>\n",
       "      <td>0.476</td>\n",
       "      <td>10.0</td>\n",
       "      <td>0-500</td>\n",
       "    </tr>\n",
       "    <tr>\n",
       "      <th>2</th>\n",
       "      <td>7.739509</td>\n",
       "      <td>268.0</td>\n",
       "      <td>66</td>\n",
       "      <td>0.01</td>\n",
       "      <td>73.219243</td>\n",
       "      <td>64</td>\n",
       "      <td>62.0</td>\n",
       "      <td>8.13</td>\n",
       "      <td>64.0</td>\n",
       "      <td>631.744976</td>\n",
       "      <td>31731688.0</td>\n",
       "      <td>0.470</td>\n",
       "      <td>9.9</td>\n",
       "      <td>0-500</td>\n",
       "    </tr>\n",
       "    <tr>\n",
       "      <th>3</th>\n",
       "      <td>7.713624</td>\n",
       "      <td>272.0</td>\n",
       "      <td>69</td>\n",
       "      <td>0.01</td>\n",
       "      <td>78.184215</td>\n",
       "      <td>67</td>\n",
       "      <td>67.0</td>\n",
       "      <td>8.52</td>\n",
       "      <td>67.0</td>\n",
       "      <td>669.959000</td>\n",
       "      <td>3696958.0</td>\n",
       "      <td>0.463</td>\n",
       "      <td>9.8</td>\n",
       "      <td>0-500</td>\n",
       "    </tr>\n",
       "    <tr>\n",
       "      <th>4</th>\n",
       "      <td>7.694154</td>\n",
       "      <td>275.0</td>\n",
       "      <td>71</td>\n",
       "      <td>0.01</td>\n",
       "      <td>7.097109</td>\n",
       "      <td>68</td>\n",
       "      <td>68.0</td>\n",
       "      <td>7.87</td>\n",
       "      <td>68.0</td>\n",
       "      <td>63.537231</td>\n",
       "      <td>2978599.0</td>\n",
       "      <td>0.454</td>\n",
       "      <td>9.5</td>\n",
       "      <td>0-500</td>\n",
       "    </tr>\n",
       "  </tbody>\n",
       "</table>\n",
       "</div>"
      ],
      "text/plain": [
       "   Life expectancy  Adult Mortality  infant deaths  Alcohol  \\\n",
       "0         8.062258            263.0             62     0.01   \n",
       "1         7.739509            271.0             64     0.01   \n",
       "2         7.739509            268.0             66     0.01   \n",
       "3         7.713624            272.0             69     0.01   \n",
       "4         7.694154            275.0             71     0.01   \n",
       "\n",
       "   percentage expenditure  Hepatitis B  Polio  Total expenditure  Diphtheria  \\\n",
       "0               71.279624           65    6.0               8.16        65.0   \n",
       "1               73.523582           62   58.0               8.18        62.0   \n",
       "2               73.219243           64   62.0               8.13        64.0   \n",
       "3               78.184215           67   67.0               8.52        67.0   \n",
       "4                7.097109           68   68.0               7.87        68.0   \n",
       "\n",
       "          GDP  Population  Income composition of resources  Schooling    New  \n",
       "0  584.259210  33736494.0                            0.479       10.1  0-500  \n",
       "1  612.696514    327582.0                            0.476       10.0  0-500  \n",
       "2  631.744976  31731688.0                            0.470        9.9  0-500  \n",
       "3  669.959000   3696958.0                            0.463        9.8  0-500  \n",
       "4   63.537231   2978599.0                            0.454        9.5  0-500  "
      ]
     },
     "execution_count": 168,
     "metadata": {},
     "output_type": "execute_result"
    }
   ],
   "source": [
    "x.head()"
   ]
  },
  {
   "cell_type": "code",
   "execution_count": 169,
   "metadata": {},
   "outputs": [],
   "source": [
    "a=[]"
   ]
  },
  {
   "cell_type": "code",
   "execution_count": 170,
   "metadata": {},
   "outputs": [],
   "source": [
    "for f in  range (len(x)) :\n",
    "    if x[\"infant deaths\"] [f]<=500 :\n",
    "        a.append(\"0-500\")\n",
    "    elif x[\"infant deaths\"][f]>500 and x[\"infant deaths\"] [f]<=700 :\n",
    "        a.append(\"500-700\")\n",
    "    elif x[\"infant deaths\"] [f]>700 and x[\"infant deaths\"] [f]<=1200 :\n",
    "        a.append(\"700-1200\")\n",
    "    else :\n",
    "        a.append(\"1300-1800\")"
   ]
  },
  {
   "cell_type": "code",
   "execution_count": 171,
   "metadata": {},
   "outputs": [],
   "source": [
    "x[\"New\"]=a"
   ]
  },
  {
   "cell_type": "code",
   "execution_count": 172,
   "metadata": {},
   "outputs": [
    {
     "data": {
      "text/html": [
       "<div>\n",
       "<style scoped>\n",
       "    .dataframe tbody tr th:only-of-type {\n",
       "        vertical-align: middle;\n",
       "    }\n",
       "\n",
       "    .dataframe tbody tr th {\n",
       "        vertical-align: top;\n",
       "    }\n",
       "\n",
       "    .dataframe thead th {\n",
       "        text-align: right;\n",
       "    }\n",
       "</style>\n",
       "<table border=\"1\" class=\"dataframe\">\n",
       "  <thead>\n",
       "    <tr style=\"text-align: right;\">\n",
       "      <th></th>\n",
       "      <th>Life expectancy</th>\n",
       "      <th>Adult Mortality</th>\n",
       "      <th>infant deaths</th>\n",
       "      <th>Alcohol</th>\n",
       "      <th>percentage expenditure</th>\n",
       "      <th>Hepatitis B</th>\n",
       "      <th>Polio</th>\n",
       "      <th>Total expenditure</th>\n",
       "      <th>Diphtheria</th>\n",
       "      <th>GDP</th>\n",
       "      <th>Population</th>\n",
       "      <th>Income composition of resources</th>\n",
       "      <th>Schooling</th>\n",
       "      <th>New</th>\n",
       "    </tr>\n",
       "  </thead>\n",
       "  <tbody>\n",
       "    <tr>\n",
       "      <th>0</th>\n",
       "      <td>8.062258</td>\n",
       "      <td>263.0</td>\n",
       "      <td>62</td>\n",
       "      <td>0.01</td>\n",
       "      <td>71.279624</td>\n",
       "      <td>65</td>\n",
       "      <td>6.0</td>\n",
       "      <td>8.16</td>\n",
       "      <td>65.0</td>\n",
       "      <td>584.259210</td>\n",
       "      <td>33736494.0</td>\n",
       "      <td>0.479</td>\n",
       "      <td>10.1</td>\n",
       "      <td>0-500</td>\n",
       "    </tr>\n",
       "    <tr>\n",
       "      <th>1</th>\n",
       "      <td>7.739509</td>\n",
       "      <td>271.0</td>\n",
       "      <td>64</td>\n",
       "      <td>0.01</td>\n",
       "      <td>73.523582</td>\n",
       "      <td>62</td>\n",
       "      <td>58.0</td>\n",
       "      <td>8.18</td>\n",
       "      <td>62.0</td>\n",
       "      <td>612.696514</td>\n",
       "      <td>327582.0</td>\n",
       "      <td>0.476</td>\n",
       "      <td>10.0</td>\n",
       "      <td>0-500</td>\n",
       "    </tr>\n",
       "    <tr>\n",
       "      <th>2</th>\n",
       "      <td>7.739509</td>\n",
       "      <td>268.0</td>\n",
       "      <td>66</td>\n",
       "      <td>0.01</td>\n",
       "      <td>73.219243</td>\n",
       "      <td>64</td>\n",
       "      <td>62.0</td>\n",
       "      <td>8.13</td>\n",
       "      <td>64.0</td>\n",
       "      <td>631.744976</td>\n",
       "      <td>31731688.0</td>\n",
       "      <td>0.470</td>\n",
       "      <td>9.9</td>\n",
       "      <td>0-500</td>\n",
       "    </tr>\n",
       "    <tr>\n",
       "      <th>3</th>\n",
       "      <td>7.713624</td>\n",
       "      <td>272.0</td>\n",
       "      <td>69</td>\n",
       "      <td>0.01</td>\n",
       "      <td>78.184215</td>\n",
       "      <td>67</td>\n",
       "      <td>67.0</td>\n",
       "      <td>8.52</td>\n",
       "      <td>67.0</td>\n",
       "      <td>669.959000</td>\n",
       "      <td>3696958.0</td>\n",
       "      <td>0.463</td>\n",
       "      <td>9.8</td>\n",
       "      <td>0-500</td>\n",
       "    </tr>\n",
       "    <tr>\n",
       "      <th>4</th>\n",
       "      <td>7.694154</td>\n",
       "      <td>275.0</td>\n",
       "      <td>71</td>\n",
       "      <td>0.01</td>\n",
       "      <td>7.097109</td>\n",
       "      <td>68</td>\n",
       "      <td>68.0</td>\n",
       "      <td>7.87</td>\n",
       "      <td>68.0</td>\n",
       "      <td>63.537231</td>\n",
       "      <td>2978599.0</td>\n",
       "      <td>0.454</td>\n",
       "      <td>9.5</td>\n",
       "      <td>0-500</td>\n",
       "    </tr>\n",
       "  </tbody>\n",
       "</table>\n",
       "</div>"
      ],
      "text/plain": [
       "   Life expectancy  Adult Mortality  infant deaths  Alcohol  \\\n",
       "0         8.062258            263.0             62     0.01   \n",
       "1         7.739509            271.0             64     0.01   \n",
       "2         7.739509            268.0             66     0.01   \n",
       "3         7.713624            272.0             69     0.01   \n",
       "4         7.694154            275.0             71     0.01   \n",
       "\n",
       "   percentage expenditure  Hepatitis B  Polio  Total expenditure  Diphtheria  \\\n",
       "0               71.279624           65    6.0               8.16        65.0   \n",
       "1               73.523582           62   58.0               8.18        62.0   \n",
       "2               73.219243           64   62.0               8.13        64.0   \n",
       "3               78.184215           67   67.0               8.52        67.0   \n",
       "4                7.097109           68   68.0               7.87        68.0   \n",
       "\n",
       "          GDP  Population  Income composition of resources  Schooling    New  \n",
       "0  584.259210  33736494.0                            0.479       10.1  0-500  \n",
       "1  612.696514    327582.0                            0.476       10.0  0-500  \n",
       "2  631.744976  31731688.0                            0.470        9.9  0-500  \n",
       "3  669.959000   3696958.0                            0.463        9.8  0-500  \n",
       "4   63.537231   2978599.0                            0.454        9.5  0-500  "
      ]
     },
     "execution_count": 172,
     "metadata": {},
     "output_type": "execute_result"
    }
   ],
   "source": [
    "x.head()"
   ]
  },
  {
   "cell_type": "code",
   "execution_count": null,
   "metadata": {},
   "outputs": [],
   "source": []
  }
 ],
 "metadata": {
  "kernelspec": {
   "display_name": "Python 3",
   "language": "python",
   "name": "python3"
  },
  "language_info": {
   "codemirror_mode": {
    "name": "ipython",
    "version": 3
   },
   "file_extension": ".py",
   "mimetype": "text/x-python",
   "name": "python",
   "nbconvert_exporter": "python",
   "pygments_lexer": "ipython3",
   "version": "3.7.7"
  }
 },
 "nbformat": 4,
 "nbformat_minor": 4
}
